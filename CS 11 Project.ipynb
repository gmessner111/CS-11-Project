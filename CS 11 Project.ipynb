{
 "cells": [
  {
   "cell_type": "code",
   "execution_count": 163,
   "metadata": {},
   "outputs": [],
   "source": [
    "import pandas as pd\n",
    "import numpy as np\n",
    "import matplotlib.pyplot as plt\n",
    "%matplotlib inline\n",
    "from sklearn.linear_model import LinearRegression\n",
    "from sklearn.ensemble import GradientBoostingRegressor"
   ]
  },
  {
   "cell_type": "code",
   "execution_count": 3,
   "metadata": {},
   "outputs": [],
   "source": [
    "data = pd.read_csv('bitstampUSD_1-min_data_2012-01-01_to_2019-08-12.csv')"
   ]
  },
  {
   "cell_type": "code",
   "execution_count": 4,
   "metadata": {},
   "outputs": [
    {
     "data": {
      "text/html": [
       "<div>\n",
       "<style scoped>\n",
       "    .dataframe tbody tr th:only-of-type {\n",
       "        vertical-align: middle;\n",
       "    }\n",
       "\n",
       "    .dataframe tbody tr th {\n",
       "        vertical-align: top;\n",
       "    }\n",
       "\n",
       "    .dataframe thead th {\n",
       "        text-align: right;\n",
       "    }\n",
       "</style>\n",
       "<table border=\"1\" class=\"dataframe\">\n",
       "  <thead>\n",
       "    <tr style=\"text-align: right;\">\n",
       "      <th></th>\n",
       "      <th>Timestamp</th>\n",
       "      <th>Open</th>\n",
       "      <th>High</th>\n",
       "      <th>Low</th>\n",
       "      <th>Close</th>\n",
       "      <th>Volume_(BTC)</th>\n",
       "      <th>Volume_(Currency)</th>\n",
       "      <th>Weighted_Price</th>\n",
       "    </tr>\n",
       "  </thead>\n",
       "  <tbody>\n",
       "    <tr>\n",
       "      <th>0</th>\n",
       "      <td>1325317920</td>\n",
       "      <td>4.39</td>\n",
       "      <td>4.39</td>\n",
       "      <td>4.39</td>\n",
       "      <td>4.39</td>\n",
       "      <td>0.455581</td>\n",
       "      <td>2.000000</td>\n",
       "      <td>4.390000</td>\n",
       "    </tr>\n",
       "    <tr>\n",
       "      <th>1</th>\n",
       "      <td>1325317980</td>\n",
       "      <td>NaN</td>\n",
       "      <td>NaN</td>\n",
       "      <td>NaN</td>\n",
       "      <td>NaN</td>\n",
       "      <td>NaN</td>\n",
       "      <td>NaN</td>\n",
       "      <td>NaN</td>\n",
       "    </tr>\n",
       "    <tr>\n",
       "      <th>2</th>\n",
       "      <td>1325318040</td>\n",
       "      <td>NaN</td>\n",
       "      <td>NaN</td>\n",
       "      <td>NaN</td>\n",
       "      <td>NaN</td>\n",
       "      <td>NaN</td>\n",
       "      <td>NaN</td>\n",
       "      <td>NaN</td>\n",
       "    </tr>\n",
       "    <tr>\n",
       "      <th>3</th>\n",
       "      <td>1325318100</td>\n",
       "      <td>NaN</td>\n",
       "      <td>NaN</td>\n",
       "      <td>NaN</td>\n",
       "      <td>NaN</td>\n",
       "      <td>NaN</td>\n",
       "      <td>NaN</td>\n",
       "      <td>NaN</td>\n",
       "    </tr>\n",
       "    <tr>\n",
       "      <th>4</th>\n",
       "      <td>1325318160</td>\n",
       "      <td>NaN</td>\n",
       "      <td>NaN</td>\n",
       "      <td>NaN</td>\n",
       "      <td>NaN</td>\n",
       "      <td>NaN</td>\n",
       "      <td>NaN</td>\n",
       "      <td>NaN</td>\n",
       "    </tr>\n",
       "    <tr>\n",
       "      <th>...</th>\n",
       "      <td>...</td>\n",
       "      <td>...</td>\n",
       "      <td>...</td>\n",
       "      <td>...</td>\n",
       "      <td>...</td>\n",
       "      <td>...</td>\n",
       "      <td>...</td>\n",
       "      <td>...</td>\n",
       "    </tr>\n",
       "    <tr>\n",
       "      <th>3997692</th>\n",
       "      <td>1565567760</td>\n",
       "      <td>11555.57</td>\n",
       "      <td>11555.57</td>\n",
       "      <td>11540.37</td>\n",
       "      <td>11540.58</td>\n",
       "      <td>0.036868</td>\n",
       "      <td>425.909106</td>\n",
       "      <td>11552.336234</td>\n",
       "    </tr>\n",
       "    <tr>\n",
       "      <th>3997693</th>\n",
       "      <td>1565567820</td>\n",
       "      <td>11553.49</td>\n",
       "      <td>11556.22</td>\n",
       "      <td>11553.49</td>\n",
       "      <td>11556.22</td>\n",
       "      <td>0.623462</td>\n",
       "      <td>7204.428272</td>\n",
       "      <td>11555.520505</td>\n",
       "    </tr>\n",
       "    <tr>\n",
       "      <th>3997694</th>\n",
       "      <td>1565567880</td>\n",
       "      <td>11559.73</td>\n",
       "      <td>11561.22</td>\n",
       "      <td>11546.77</td>\n",
       "      <td>11561.22</td>\n",
       "      <td>0.159070</td>\n",
       "      <td>1838.731403</td>\n",
       "      <td>11559.252199</td>\n",
       "    </tr>\n",
       "    <tr>\n",
       "      <th>3997695</th>\n",
       "      <td>1565567940</td>\n",
       "      <td>11559.73</td>\n",
       "      <td>11589.73</td>\n",
       "      <td>11528.73</td>\n",
       "      <td>11528.73</td>\n",
       "      <td>16.198210</td>\n",
       "      <td>187504.635170</td>\n",
       "      <td>11575.638889</td>\n",
       "    </tr>\n",
       "    <tr>\n",
       "      <th>3997696</th>\n",
       "      <td>1565568000</td>\n",
       "      <td>11527.44</td>\n",
       "      <td>11551.57</td>\n",
       "      <td>11520.00</td>\n",
       "      <td>11520.00</td>\n",
       "      <td>23.805939</td>\n",
       "      <td>274731.256920</td>\n",
       "      <td>11540.450291</td>\n",
       "    </tr>\n",
       "  </tbody>\n",
       "</table>\n",
       "<p>3997697 rows × 8 columns</p>\n",
       "</div>"
      ],
      "text/plain": [
       "          Timestamp      Open      High       Low     Close  Volume_(BTC)  \\\n",
       "0        1325317920      4.39      4.39      4.39      4.39      0.455581   \n",
       "1        1325317980       NaN       NaN       NaN       NaN           NaN   \n",
       "2        1325318040       NaN       NaN       NaN       NaN           NaN   \n",
       "3        1325318100       NaN       NaN       NaN       NaN           NaN   \n",
       "4        1325318160       NaN       NaN       NaN       NaN           NaN   \n",
       "...             ...       ...       ...       ...       ...           ...   \n",
       "3997692  1565567760  11555.57  11555.57  11540.37  11540.58      0.036868   \n",
       "3997693  1565567820  11553.49  11556.22  11553.49  11556.22      0.623462   \n",
       "3997694  1565567880  11559.73  11561.22  11546.77  11561.22      0.159070   \n",
       "3997695  1565567940  11559.73  11589.73  11528.73  11528.73     16.198210   \n",
       "3997696  1565568000  11527.44  11551.57  11520.00  11520.00     23.805939   \n",
       "\n",
       "         Volume_(Currency)  Weighted_Price  \n",
       "0                 2.000000        4.390000  \n",
       "1                      NaN             NaN  \n",
       "2                      NaN             NaN  \n",
       "3                      NaN             NaN  \n",
       "4                      NaN             NaN  \n",
       "...                    ...             ...  \n",
       "3997692         425.909106    11552.336234  \n",
       "3997693        7204.428272    11555.520505  \n",
       "3997694        1838.731403    11559.252199  \n",
       "3997695      187504.635170    11575.638889  \n",
       "3997696      274731.256920    11540.450291  \n",
       "\n",
       "[3997697 rows x 8 columns]"
      ]
     },
     "execution_count": 4,
     "metadata": {},
     "output_type": "execute_result"
    }
   ],
   "source": [
    "data"
   ]
  },
  {
   "cell_type": "code",
   "execution_count": 56,
   "metadata": {},
   "outputs": [
    {
     "data": {
      "text/html": [
       "<div>\n",
       "<style scoped>\n",
       "    .dataframe tbody tr th:only-of-type {\n",
       "        vertical-align: middle;\n",
       "    }\n",
       "\n",
       "    .dataframe tbody tr th {\n",
       "        vertical-align: top;\n",
       "    }\n",
       "\n",
       "    .dataframe thead th {\n",
       "        text-align: right;\n",
       "    }\n",
       "</style>\n",
       "<table border=\"1\" class=\"dataframe\">\n",
       "  <thead>\n",
       "    <tr style=\"text-align: right;\">\n",
       "      <th></th>\n",
       "      <th>Timestamp</th>\n",
       "      <th>Open</th>\n",
       "      <th>High</th>\n",
       "      <th>Low</th>\n",
       "      <th>Close</th>\n",
       "      <th>Volume_(BTC)</th>\n",
       "      <th>Volume_(Currency)</th>\n",
       "      <th>Weighted_Price</th>\n",
       "    </tr>\n",
       "  </thead>\n",
       "  <tbody>\n",
       "    <tr>\n",
       "      <th>Timestamp</th>\n",
       "      <td>1.000000</td>\n",
       "      <td>0.727978</td>\n",
       "      <td>0.727783</td>\n",
       "      <td>0.728220</td>\n",
       "      <td>0.727981</td>\n",
       "      <td>-0.086029</td>\n",
       "      <td>0.219983</td>\n",
       "      <td>0.727997</td>\n",
       "    </tr>\n",
       "    <tr>\n",
       "      <th>Open</th>\n",
       "      <td>0.727978</td>\n",
       "      <td>1.000000</td>\n",
       "      <td>0.999999</td>\n",
       "      <td>0.999998</td>\n",
       "      <td>0.999998</td>\n",
       "      <td>-0.039713</td>\n",
       "      <td>0.361751</td>\n",
       "      <td>0.999999</td>\n",
       "    </tr>\n",
       "    <tr>\n",
       "      <th>High</th>\n",
       "      <td>0.727783</td>\n",
       "      <td>0.999999</td>\n",
       "      <td>1.000000</td>\n",
       "      <td>0.999997</td>\n",
       "      <td>0.999998</td>\n",
       "      <td>-0.039494</td>\n",
       "      <td>0.362273</td>\n",
       "      <td>0.999999</td>\n",
       "    </tr>\n",
       "    <tr>\n",
       "      <th>Low</th>\n",
       "      <td>0.728220</td>\n",
       "      <td>0.999998</td>\n",
       "      <td>0.999997</td>\n",
       "      <td>1.000000</td>\n",
       "      <td>0.999998</td>\n",
       "      <td>-0.039980</td>\n",
       "      <td>0.361131</td>\n",
       "      <td>0.999999</td>\n",
       "    </tr>\n",
       "    <tr>\n",
       "      <th>Close</th>\n",
       "      <td>0.727981</td>\n",
       "      <td>0.999998</td>\n",
       "      <td>0.999998</td>\n",
       "      <td>0.999998</td>\n",
       "      <td>1.000000</td>\n",
       "      <td>-0.039745</td>\n",
       "      <td>0.361676</td>\n",
       "      <td>0.999999</td>\n",
       "    </tr>\n",
       "    <tr>\n",
       "      <th>Volume_(BTC)</th>\n",
       "      <td>-0.086029</td>\n",
       "      <td>-0.039713</td>\n",
       "      <td>-0.039494</td>\n",
       "      <td>-0.039980</td>\n",
       "      <td>-0.039745</td>\n",
       "      <td>1.000000</td>\n",
       "      <td>0.395642</td>\n",
       "      <td>-0.039752</td>\n",
       "    </tr>\n",
       "    <tr>\n",
       "      <th>Volume_(Currency)</th>\n",
       "      <td>0.219983</td>\n",
       "      <td>0.361751</td>\n",
       "      <td>0.362273</td>\n",
       "      <td>0.361131</td>\n",
       "      <td>0.361676</td>\n",
       "      <td>0.395642</td>\n",
       "      <td>1.000000</td>\n",
       "      <td>0.361667</td>\n",
       "    </tr>\n",
       "    <tr>\n",
       "      <th>Weighted_Price</th>\n",
       "      <td>0.727997</td>\n",
       "      <td>0.999999</td>\n",
       "      <td>0.999999</td>\n",
       "      <td>0.999999</td>\n",
       "      <td>0.999999</td>\n",
       "      <td>-0.039752</td>\n",
       "      <td>0.361667</td>\n",
       "      <td>1.000000</td>\n",
       "    </tr>\n",
       "  </tbody>\n",
       "</table>\n",
       "</div>"
      ],
      "text/plain": [
       "                   Timestamp      Open      High       Low     Close  \\\n",
       "Timestamp           1.000000  0.727978  0.727783  0.728220  0.727981   \n",
       "Open                0.727978  1.000000  0.999999  0.999998  0.999998   \n",
       "High                0.727783  0.999999  1.000000  0.999997  0.999998   \n",
       "Low                 0.728220  0.999998  0.999997  1.000000  0.999998   \n",
       "Close               0.727981  0.999998  0.999998  0.999998  1.000000   \n",
       "Volume_(BTC)       -0.086029 -0.039713 -0.039494 -0.039980 -0.039745   \n",
       "Volume_(Currency)   0.219983  0.361751  0.362273  0.361131  0.361676   \n",
       "Weighted_Price      0.727997  0.999999  0.999999  0.999999  0.999999   \n",
       "\n",
       "                   Volume_(BTC)  Volume_(Currency)  Weighted_Price  \n",
       "Timestamp             -0.086029           0.219983        0.727997  \n",
       "Open                  -0.039713           0.361751        0.999999  \n",
       "High                  -0.039494           0.362273        0.999999  \n",
       "Low                   -0.039980           0.361131        0.999999  \n",
       "Close                 -0.039745           0.361676        0.999999  \n",
       "Volume_(BTC)           1.000000           0.395642       -0.039752  \n",
       "Volume_(Currency)      0.395642           1.000000        0.361667  \n",
       "Weighted_Price        -0.039752           0.361667        1.000000  "
      ]
     },
     "execution_count": 56,
     "metadata": {},
     "output_type": "execute_result"
    }
   ],
   "source": [
    "data.corr()"
   ]
  },
  {
   "cell_type": "code",
   "execution_count": 16,
   "metadata": {},
   "outputs": [],
   "source": [
    "times = data['Timestamp']\n",
    "numTimes = len(times)"
   ]
  },
  {
   "cell_type": "code",
   "execution_count": 8,
   "metadata": {},
   "outputs": [
    {
     "name": "stdout",
     "output_type": "stream",
     "text": [
      "1585521\n"
     ]
    }
   ],
   "source": [
    "for i in range(1,len(times)):\n",
    "    if(times[i] != times[i-1]+60):\n",
    "        print(i)"
   ]
  },
  {
   "cell_type": "code",
   "execution_count": 14,
   "metadata": {},
   "outputs": [
    {
     "data": {
      "text/plain": [
       "[<matplotlib.lines.Line2D at 0x118e76d30>]"
      ]
     },
     "execution_count": 14,
     "metadata": {},
     "output_type": "execute_result"
    },
    {
     "data": {
      "image/png": "[encoded data removed]",
      "text/plain": [
       "<Figure size 432x288 with 1 Axes>"
      ]
     },
     "metadata": {
      "needs_background": "light"
     },
     "output_type": "display_data"
    }
   ],
   "source": [
    "plt.plot(data['Timestamp'],data['Close'])"
   ]
  },
  {
   "cell_type": "code",
   "execution_count": 21,
   "metadata": {},
   "outputs": [],
   "source": [
    "real_data = data.T.values"
   ]
  },
  {
   "cell_type": "code",
   "execution_count": 29,
   "metadata": {},
   "outputs": [
    {
     "name": "stdout",
     "output_type": "stream",
     "text": [
      "1231878\n"
     ]
    }
   ],
   "source": [
    "trimmed_data = []\n",
    "nanCount = 0\n",
    "for i in range(numTimes):\n",
    "    if(np.isnan(real_data[1][i])):\n",
    "        nanCount = nanCount + 1\n",
    "    else:\n",
    "        trimmed_data.append(real_data.T[i])\n",
    "        \n",
    "print(nanCount)"
   ]
  },
  {
   "cell_type": "code",
   "execution_count": 38,
   "metadata": {},
   "outputs": [],
   "source": [
    "trimmed_data = np.array(trimmed_data)"
   ]
  },
  {
   "cell_type": "code",
   "execution_count": 150,
   "metadata": {},
   "outputs": [],
   "source": [
    "numUsedTimes = len(trimmed_data)\n",
    "train_data = trimmed_data[:int(9*numUsedTimes/10)]\n",
    "test_data = trimmed_data[int(9*numUsedTimes/10):]\n",
    "window_size = 2\n",
    "N_train = len(train_data)\n",
    "N_test = len(test_data)"
   ]
  },
  {
   "cell_type": "code",
   "execution_count": 179,
   "metadata": {},
   "outputs": [],
   "source": [
    "def getXY(params, window_size):\n",
    "    numParams = len(params)\n",
    "    X = np.zeros(shape=(N_train - window_size, numParams*window_size))\n",
    "    Y = np.zeros(N_train - window_size)\n",
    "    for i in range(N_train-window_size):\n",
    "        for i in range(numParams):\n",
    "            X[i][window_size*j:window_size*(j+1)] = train_data.T[params[j]][i:i+window_size]\n",
    "        Y[i] = train_data[i+window_size][1]\n",
    "    \n",
    "    X_test = np.zeros(shape=(N_test - window_size, numParams*window_size))\n",
    "    for i in range(N_test-window_size):\n",
    "        for i in range(numParams):\n",
    "            X_test[i][window_size*j:window_size*(j+1)] = test_data.T[params[j]][i:i+window_size]\n",
    "    \n",
    "    return X, Y, X_test"
   ]
  },
  {
   "cell_type": "code",
   "execution_count": 182,
   "metadata": {},
   "outputs": [
    {
     "ename": "NameError",
     "evalue": "name 'fitted_model' is not defined",
     "output_type": "error",
     "traceback": [
      "\u001b[0;31m---------------------------------------------------------------------------\u001b[0m",
      "\u001b[0;31mNameError\u001b[0m                                 Traceback (most recent call last)",
      "\u001b[0;32m<ipython-input-182-5bfce3c1ee60>\u001b[0m in \u001b[0;36m<module>\u001b[0;34m\u001b[0m\n\u001b[1;32m      4\u001b[0m         \u001b[0my_pred_train\u001b[0m\u001b[0;34m[\u001b[0m\u001b[0mi\u001b[0m\u001b[0;34m]\u001b[0m \u001b[0;34m=\u001b[0m \u001b[0mtrain_data\u001b[0m\u001b[0;34m[\u001b[0m\u001b[0mi\u001b[0m\u001b[0;34m]\u001b[0m\u001b[0;34m[\u001b[0m\u001b[0;36m1\u001b[0m\u001b[0;34m]\u001b[0m\u001b[0;34m\u001b[0m\u001b[0;34m\u001b[0m\u001b[0m\n\u001b[1;32m      5\u001b[0m \u001b[0;34m\u001b[0m\u001b[0m\n\u001b[0;32m----> 6\u001b[0;31m \u001b[0my_pred_train\u001b[0m\u001b[0;34m[\u001b[0m\u001b[0mwindow_size\u001b[0m\u001b[0;34m:\u001b[0m\u001b[0;34m]\u001b[0m \u001b[0;34m=\u001b[0m \u001b[0mfitted_model\u001b[0m\u001b[0;34m.\u001b[0m\u001b[0mpredict\u001b[0m\u001b[0;34m(\u001b[0m\u001b[0mX_train\u001b[0m\u001b[0;34m)\u001b[0m\u001b[0;34m\u001b[0m\u001b[0;34m\u001b[0m\u001b[0m\n\u001b[0m\u001b[1;32m      7\u001b[0m \u001b[0;34m\u001b[0m\u001b[0m\n\u001b[1;32m      8\u001b[0m \u001b[0my_pred_test\u001b[0m \u001b[0;34m=\u001b[0m \u001b[0mnp\u001b[0m\u001b[0;34m.\u001b[0m\u001b[0mzeros\u001b[0m\u001b[0;34m(\u001b[0m\u001b[0mN_test\u001b[0m\u001b[0;34m)\u001b[0m\u001b[0;34m\u001b[0m\u001b[0;34m\u001b[0m\u001b[0m\n",
      "\u001b[0;31mNameError\u001b[0m: name 'fitted_model' is not defined"
     ]
    }
   ],
   "source": [
    "def getPredictions(X, Y, X_test, fitted_model, window_size):\n",
    "    y_pred_train = np.zeros(N_train)\n",
    "    for i in range(window_size):\n",
    "        y_pred_train[i] = train_data[i][1]\n",
    "    \n",
    "y_pred_train[window_size:] = fitted_model.predict(X_train)\n",
    "\n",
    "y_pred_test = np.zeros(N_test)\n",
    "\n",
    "y_pred_test[:window_size] = fitted_model.predict(X_train[len(X_train)-window_size:])\n",
    "    \n",
    "y_pred_test[window_size:] = fitted_model.predict(X_test)\n",
    "\n",
    "return y_pred_train, y_pred_test "
   ]
  },
  {
   "cell_type": "code",
   "execution_count": 46,
   "metadata": {},
   "outputs": [],
   "source": [
    "def squared_error(y_pred,y_real):\n",
    "    return (y_pred-y_real)**2"
   ]
  },
  {
   "cell_type": "code",
   "execution_count": 47,
   "metadata": {},
   "outputs": [],
   "source": [
    "y_pred_train_0 = np.zeros(N_train)\n",
    "y_pred_train_0[0] = train_data[0][1]\n",
    "for i in range(1,N_train):\n",
    "    y_pred_train_0[i] = train_data[i-1][1]"
   ]
  },
  {
   "cell_type": "code",
   "execution_count": 49,
   "metadata": {},
   "outputs": [],
   "source": [
    "y_pred_test_0 = np.zeros(N_test)\n",
    "y_pred_test_0[0] = test_data[0][1]\n",
    "for i in range(1,N_test):\n",
    "    y_pred_test_0[i] = test_data[i-1][1]"
   ]
  },
  {
   "cell_type": "code",
   "execution_count": 85,
   "metadata": {},
   "outputs": [],
   "source": [
    "e_in_0 = sum(squared_error(y_pred_train_0,train_data.T[1]))/N_train\n",
    "e_out_0 = sum(squared_error(y_pred_test_0,test_data.T[1]))/N_test"
   ]
  },
  {
   "cell_type": "code",
   "execution_count": 86,
   "metadata": {},
   "outputs": [
    {
     "name": "stdout",
     "output_type": "stream",
     "text": [
      "63.213155116705735 111.96332227007325\n"
     ]
    }
   ],
   "source": [
    "print(e_in_0,e_out_0) #baseline errors"
   ]
  },
  {
   "cell_type": "code",
   "execution_count": 54,
   "metadata": {},
   "outputs": [
    {
     "data": {
      "text/plain": [
       "[<matplotlib.lines.Line2D at 0x1a4200400>]"
      ]
     },
     "execution_count": 54,
     "metadata": {},
     "output_type": "execute_result"
    },
    {
     "data": {
      "image/png": "[encoded data removed]",
      "text/plain": [
       "<Figure size 432x288 with 1 Axes>"
      ]
     },
     "metadata": {
      "needs_background": "light"
     },
     "output_type": "display_data"
    }
   ],
   "source": [
    "plt.plot(y_pred_train_0-train_data.T[1])"
   ]
  },
  {
   "cell_type": "code",
   "execution_count": 55,
   "metadata": {},
   "outputs": [
    {
     "data": {
      "text/plain": [
       "[<matplotlib.lines.Line2D at 0x1a43ca908>]"
      ]
     },
     "execution_count": 55,
     "metadata": {},
     "output_type": "execute_result"
    },
    {
     "data": {
      "image/png": "[encoded data removed]",
      "text/plain": [
       "<Figure size 432x288 with 1 Axes>"
      ]
     },
     "metadata": {
      "needs_background": "light"
     },
     "output_type": "display_data"
    }
   ],
   "source": [
    "plt.plot(y_pred_test_0-test_data.T[1])"
   ]
  },
  {
   "cell_type": "code",
   "execution_count": 106,
   "metadata": {},
   "outputs": [],
   "source": [
    "linear_model = LinearRegression()"
   ]
  },
  {
   "cell_type": "code",
   "execution_count": 107,
   "metadata": {},
   "outputs": [],
   "source": [
    "X_train_1 = np.zeros(shape=(N_train - window_size, window_size))\n",
    "Y_train_1 = np.zeros(N_train - window_size)\n",
    "for i in range(N_train-window_size):\n",
    "    X_train_1[i] = train_data.T[1][i:i+window_size]\n",
    "    Y_train_1[i] = train_data[i+window_size][1]"
   ]
  },
  {
   "cell_type": "code",
   "execution_count": 108,
   "metadata": {},
   "outputs": [],
   "source": [
    "X_test_1 = np.zeros(shape=(N_test - window_size, window_size))\n",
    "Y_test_1 = np.zeros(N_test - window_size)\n",
    "for i in range(N_test-window_size):\n",
    "    X_test_1[i] = test_data.T[1][i:i+window_size]\n",
    "    Y_test_1[i] = test_data[i+window_size][1]"
   ]
  },
  {
   "cell_type": "code",
   "execution_count": 109,
   "metadata": {},
   "outputs": [],
   "source": [
    "linear_fit_1 = linear_model.fit(X_train_1,Y_train_1)"
   ]
  },
  {
   "cell_type": "code",
   "execution_count": 110,
   "metadata": {},
   "outputs": [
    {
     "data": {
      "text/plain": [
       "array([0.03195954, 0.96803796])"
      ]
     },
     "execution_count": 110,
     "metadata": {},
     "output_type": "execute_result"
    }
   ],
   "source": [
    "linear_fit_1.coef_"
   ]
  },
  {
   "cell_type": "code",
   "execution_count": 111,
   "metadata": {},
   "outputs": [],
   "source": [
    "y_pred_train_1 = np.zeros(N_train)\n",
    "for i in range(window_size):\n",
    "    y_pred_train_1[i] = train_data[i][1]\n",
    "    \n",
    "y_pred_train_1[window_size:] = linear_fit_1.predict(X_train_1)"
   ]
  },
  {
   "cell_type": "code",
   "execution_count": 112,
   "metadata": {},
   "outputs": [],
   "source": [
    "y_pred_test_1 = np.zeros(N_test)\n",
    "\n",
    "y_pred_test_1[:window_size] = linear_fit_1.predict(X_train_1[len(X_train_1)-window_size:])\n",
    "    \n",
    "y_pred_test_1[window_size:] = linear_fit_1.predict(X_test_1)"
   ]
  },
  {
   "cell_type": "code",
   "execution_count": 113,
   "metadata": {},
   "outputs": [],
   "source": [
    "e_in_1 = sum(squared_error(y_pred_train_1,train_data.T[1]))/N_train\n",
    "e_out_1 = sum(squared_error(y_pred_test_1,test_data.T[1]))/N_test"
   ]
  },
  {
   "cell_type": "code",
   "execution_count": 114,
   "metadata": {},
   "outputs": [
    {
     "name": "stdout",
     "output_type": "stream",
     "text": [
      "63.148501929490486 111.97414091957329\n"
     ]
    }
   ],
   "source": [
    "print(e_in_1,e_out_1)"
   ]
  },
  {
   "cell_type": "code",
   "execution_count": 115,
   "metadata": {},
   "outputs": [
    {
     "data": {
      "text/plain": [
       "array([1.32531792e+09, 4.39000000e+00, 4.39000000e+00, 4.39000000e+00,\n",
       "       4.39000000e+00, 4.55580870e-01, 2.00000002e+00, 4.39000000e+00])"
      ]
     },
     "execution_count": 115,
     "metadata": {},
     "output_type": "execute_result"
    }
   ],
   "source": [
    "train_data[0]"
   ]
  },
  {
   "cell_type": "code",
   "execution_count": 151,
   "metadata": {},
   "outputs": [],
   "source": [
    "X_train_2 = np.zeros(shape=(N_train - window_size, 3*window_size))\n",
    "Y_train_2 = np.zeros(N_train - window_size)\n",
    "for i in range(N_train-window_size):\n",
    "    X_train_2[i][0:window_size] = train_data.T[1][i:i+window_size]\n",
    "    X_train_2[i][window_size:2*window_size] = train_data.T[5][i:i+window_size]\n",
    "    X_train_2[i][2*window_size:3*window_size] = train_data.T[6][i:i+window_size]\n",
    "    Y_train_2[i] = train_data[i+window_size][1]"
   ]
  },
  {
   "cell_type": "code",
   "execution_count": 152,
   "metadata": {},
   "outputs": [],
   "source": [
    "X_test_2 = np.zeros(shape=(N_test - window_size, 3*window_size))\n",
    "Y_test_2 = np.zeros(N_test - window_size)\n",
    "for i in range(N_test-window_size):\n",
    "    X_test_2[i][0:window_size] = test_data.T[1][i:i+window_size]\n",
    "    X_test_2[i][window_size:2*window_size] = test_data.T[5][i:i+window_size]\n",
    "    X_test_2[i][2*window_size:3*window_size] = test_data.T[6][i:i+window_size]\n",
    "    Y_test_2[i] = test_data[i+window_size][1]"
   ]
  },
  {
   "cell_type": "code",
   "execution_count": 153,
   "metadata": {},
   "outputs": [],
   "source": [
    "linear_fit_2 = linear_model.fit(X_train_2,Y_train_2)"
   ]
  },
  {
   "cell_type": "code",
   "execution_count": 154,
   "metadata": {},
   "outputs": [
    {
     "data": {
      "text/plain": [
       "array([ 3.25448255e-02,  9.67462419e-01, -1.22052564e-03,  1.15691134e-03,\n",
       "        4.17953605e-06, -5.19745435e-06])"
      ]
     },
     "execution_count": 154,
     "metadata": {},
     "output_type": "execute_result"
    }
   ],
   "source": [
    "linear_fit_2.coef_"
   ]
  },
  {
   "cell_type": "code",
   "execution_count": 155,
   "metadata": {},
   "outputs": [],
   "source": [
    "y_pred_train_2 = np.zeros(N_train)\n",
    "for i in range(window_size):\n",
    "    y_pred_train_2[i] = train_data[i][1]\n",
    "    \n",
    "y_pred_train_2[window_size:] = linear_fit_2.predict(X_train_2)\n",
    "\n",
    "y_pred_test_2 = np.zeros(N_test)\n",
    "\n",
    "y_pred_test_2[:window_size] = linear_fit_2.predict(X_train_2[len(X_train_2)-window_size:])\n",
    "    \n",
    "y_pred_test_2[window_size:] = linear_fit_2.predict(X_test_2)"
   ]
  },
  {
   "cell_type": "code",
   "execution_count": 156,
   "metadata": {},
   "outputs": [
    {
     "name": "stdout",
     "output_type": "stream",
     "text": [
      "62.996577673817086 111.5709029435724\n"
     ]
    }
   ],
   "source": [
    "e_in_2 = sum(squared_error(y_pred_train_2,train_data.T[1]))/N_train\n",
    "e_out_2 = sum(squared_error(y_pred_test_2,test_data.T[1]))/N_test\n",
    "print(e_in_2,e_out_2)"
   ]
  },
  {
   "cell_type": "code",
   "execution_count": 158,
   "metadata": {},
   "outputs": [],
   "source": [
    "#Try one with time differences as a factor\n",
    "X_train_3 = np.zeros(shape=(N_train - window_size, 4*window_size))\n",
    "Y_train_3 = np.zeros(N_train - window_size)\n",
    "\n",
    "X_train_3[0][0:window_size] = train_data.T[1][0:window_size]\n",
    "X_train_3[0][window_size:2*window_size] = train_data.T[5][0:window_size]\n",
    "X_train_3[0][2*window_size:3*window_size] = train_data.T[6][0:window_size]\n",
    "X_train_3[0][3*window_size:4*window_size] = 60\n",
    "\n",
    "for i in range(1,N_train-window_size):\n",
    "    X_train_3[i][0:window_size] = train_data.T[1][i:i+window_size]\n",
    "    X_train_3[i][window_size:2*window_size] = train_data.T[5][i:i+window_size]\n",
    "    X_train_3[i][2*window_size:3*window_size] = train_data.T[6][i:i+window_size]\n",
    "    X_train_3[i][3*window_size:4*window_size] = train_data.T[0][i:i+window_size] - train_data.T[0][i-1:i+window_size-1]\n",
    "    Y_train_3[i] = train_data[i+window_size][1]"
   ]
  },
  {
   "cell_type": "code",
   "execution_count": 159,
   "metadata": {},
   "outputs": [],
   "source": [
    "X_test_3 = np.zeros(shape=(N_test - window_size, 4*window_size))\n",
    "Y_test_3 = np.zeros(N_test - window_size)\n",
    "\n",
    "X_test_3[0][0:window_size] = test_data.T[1][0:window_size]\n",
    "X_test_3[0][window_size:2*window_size] = test_data.T[5][0:window_size]\n",
    "X_test_3[0][2*window_size:3*window_size] = test_data.T[6][0:window_size]\n",
    "X_test_3[0][3*window_size:4*window_size] = test_data.T[0][0:window_size] - train_data.T[0][N_train-window_size:N_train]\n",
    "\n",
    "for i in range(1,N_test-window_size):\n",
    "    X_test_3[i][0:window_size] = test_data.T[1][i:i+window_size]\n",
    "    X_test_3[i][window_size:2*window_size] = test_data.T[5][i:i+window_size]\n",
    "    X_test_3[i][2*window_size:3*window_size] = test_data.T[6][i:i+window_size]\n",
    "    X_test_3[i][3*window_size:4*window_size] = test_data.T[0][i:i+window_size] - test_data.T[0][i-1:i+window_size-1]\n",
    "    Y_test_3[i] = test_data[i+window_size][1]"
   ]
  },
  {
   "cell_type": "code",
   "execution_count": 160,
   "metadata": {},
   "outputs": [
    {
     "data": {
      "text/plain": [
       "array([ 3.25444345e-02,  9.67462869e-01, -1.21983791e-03,  1.15669020e-03,\n",
       "        4.17946580e-06, -5.19739934e-06, -3.87572044e-06,  1.48847216e-05])"
      ]
     },
     "execution_count": 160,
     "metadata": {},
     "output_type": "execute_result"
    }
   ],
   "source": [
    "linear_fit_3 = linear_model.fit(X_train_3,Y_train_3)\n",
    "linear_fit_3.coef_"
   ]
  },
  {
   "cell_type": "code",
   "execution_count": 161,
   "metadata": {},
   "outputs": [],
   "source": [
    "y_pred_train_3 = np.zeros(N_train)\n",
    "for i in range(window_size):\n",
    "    y_pred_train_3[i] = train_data[i][1]\n",
    "    \n",
    "y_pred_train_3[window_size:] = linear_fit_3.predict(X_train_3)\n",
    "\n",
    "y_pred_test_3 = np.zeros(N_test)\n",
    "\n",
    "y_pred_test_3[:window_size] = linear_fit_3.predict(X_train_3[len(X_train_3)-window_size:])\n",
    "    \n",
    "y_pred_test_3[window_size:] = linear_fit_3.predict(X_test_3)"
   ]
  },
  {
   "cell_type": "code",
   "execution_count": 162,
   "metadata": {},
   "outputs": [
    {
     "name": "stdout",
     "output_type": "stream",
     "text": [
      "62.9965291061144 111.570910366717\n"
     ]
    }
   ],
   "source": [
    "e_in_3 = sum(squared_error(y_pred_train_3,train_data.T[1]))/N_train\n",
    "e_out_3 = sum(squared_error(y_pred_test_3,test_data.T[1]))/N_test\n",
    "print(e_in_3,e_out_3)"
   ]
  },
  {
   "cell_type": "code",
   "execution_count": 164,
   "metadata": {},
   "outputs": [],
   "source": [
    "gradient_boost_model = GradientBoostingRegressor()"
   ]
  },
  {
   "cell_type": "code",
   "execution_count": 165,
   "metadata": {},
   "outputs": [],
   "source": [
    "grad_boost_fit_1 = gradient_boost_model.fit(X_train_3,Y_train_3)"
   ]
  },
  {
   "cell_type": "code",
   "execution_count": 166,
   "metadata": {},
   "outputs": [],
   "source": [
    "y_pred_train_4 = np.zeros(N_train)\n",
    "for i in range(window_size):\n",
    "    y_pred_train_4[i] = train_data[i][1]\n",
    "    \n",
    "y_pred_train_4[window_size:] = grad_boost_fit_1.predict(X_train_3)\n",
    "\n",
    "y_pred_test_4 = np.zeros(N_test)\n",
    "\n",
    "y_pred_test_4[:window_size] = grad_boost_fit_1.predict(X_train_3[len(X_train_3)-window_size:])\n",
    "    \n",
    "y_pred_test_4[window_size:] = grad_boost_fit_1.predict(X_test_3)"
   ]
  },
  {
   "cell_type": "code",
   "execution_count": 167,
   "metadata": {},
   "outputs": [
    {
     "name": "stdout",
     "output_type": "stream",
     "text": [
      "531.0628111756738 1947.524658146108\n"
     ]
    }
   ],
   "source": [
    "e_in_4 = sum(squared_error(y_pred_train_4,train_data.T[1]))/N_train\n",
    "e_out_4 = sum(squared_error(y_pred_test_4,test_data.T[1]))/N_test\n",
    "print(e_in_4,e_out_4)"
   ]
  },
  {
   "cell_type": "code",
   "execution_count": 173,
   "metadata": {},
   "outputs": [
    {
     "data": {
      "text/plain": [
       "[<matplotlib.lines.Line2D at 0x22fe34b00>]"
      ]
     },
     "execution_count": 173,
     "metadata": {},
     "output_type": "execute_result"
    },
    {
     "data": {
      "image/png": "[encoded data removed]",
      "text/plain": [
       "<Figure size 432x288 with 1 Axes>"
      ]
     },
     "metadata": {
      "needs_background": "light"
     },
     "output_type": "display_data"
    }
   ],
   "source": [
    "plt.plot(y_pred_test_4-test_data.T[1])\n",
    "plt.plot(y_pred_test_3-test_data.T[1])"
   ]
  },
  {
   "cell_type": "code",
   "execution_count": 174,
   "metadata": {},
   "outputs": [],
   "source": [
    "grad_boost_fit_2 = gradient_boost_model.fit(X_train_1,Y_train_1)"
   ]
  },
  {
   "cell_type": "code",
   "execution_count": 177,
   "metadata": {},
   "outputs": [],
   "source": [
    "y_pred_train_5 = np.zeros(N_train)\n",
    "for i in range(window_size):\n",
    "    y_pred_train_5[i] = train_data[i][1]\n",
    "    \n",
    "y_pred_train_5[window_size:] = grad_boost_fit_2.predict(X_train_1)\n",
    "\n",
    "y_pred_test_5 = np.zeros(N_test)\n",
    "\n",
    "y_pred_test_5[:window_size] = grad_boost_fit_2.predict(X_train_1[len(X_train_1)-window_size:])\n",
    "    \n",
    "y_pred_test_5[window_size:] = grad_boost_fit_2.predict(X_test_1)"
   ]
  },
  {
   "cell_type": "code",
   "execution_count": 178,
   "metadata": {},
   "outputs": [
    {
     "name": "stdout",
     "output_type": "stream",
     "text": [
      "530.5833470288304 1947.5424393052592\n"
     ]
    }
   ],
   "source": [
    "e_in_5 = sum(squared_error(y_pred_train_5,train_data.T[1]))/N_train\n",
    "e_out_5 = sum(squared_error(y_pred_test_5,test_data.T[1]))/N_test\n",
    "print(e_in_5,e_out_5)"
   ]
  },
  {
   "cell_type": "code",
   "execution_count": null,
   "metadata": {},
   "outputs": [],
   "source": []
  }
 ],
 "metadata": {
  "kernelspec": {
   "display_name": "Python 3",
   "language": "python",
   "name": "python3"
  },
  "language_info": {
   "codemirror_mode": {
    "name": "ipython",
    "version": 3
   },
   "file_extension": ".py",
   "mimetype": "text/x-python",
   "name": "python",
   "nbconvert_exporter": "python",
   "pygments_lexer": "ipython3",
   "version": "3.6.10"
  }
 },
 "nbformat": 4,
 "nbformat_minor": 4
}
